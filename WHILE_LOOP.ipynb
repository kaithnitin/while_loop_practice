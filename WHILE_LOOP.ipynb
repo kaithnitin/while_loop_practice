{
 "cells": [
  {
   "cell_type": "code",
   "execution_count": null,
   "id": "81de9a07-05f2-4fa8-847b-ddbdd30c4ff8",
   "metadata": {},
   "outputs": [],
   "source": [
    "# print numbers from 1 to 10"
   ]
  },
  {
   "cell_type": "code",
   "execution_count": 2,
   "id": "236fe8ba-6a3b-44a1-8d69-1940dcf706ec",
   "metadata": {},
   "outputs": [
    {
     "name": "stdout",
     "output_type": "stream",
     "text": [
      "1\n",
      "2\n",
      "3\n",
      "4\n",
      "5\n",
      "6\n",
      "7\n",
      "8\n",
      "9\n",
      "10\n"
     ]
    }
   ],
   "source": [
    "i=1\n",
    "while i<=10:\n",
    "    print(i)\n",
    "    i+=1"
   ]
  },
  {
   "cell_type": "code",
   "execution_count": 9,
   "id": "0434b999-a50e-4f52-8408-c93e6319a177",
   "metadata": {},
   "outputs": [
    {
     "name": "stdin",
     "output_type": "stream",
     "text": [
      "enter upper limit:  10\n"
     ]
    },
    {
     "name": "stdout",
     "output_type": "stream",
     "text": [
      "total sum till 10 --> 55\n"
     ]
    }
   ],
   "source": [
    "n = int(input(\"enter upper limit: \"))\n",
    "sp = 0\n",
    "jump = 1\n",
    "while jump <= n:\n",
    "    sp = sp + jump\n",
    "    jump+=1\n",
    "print(\"total sum till\",n,\"-->\",sp)"
   ]
  },
  {
   "cell_type": "code",
   "execution_count": 16,
   "id": "a8704beb-2123-4a29-9a70-4b755111a583",
   "metadata": {},
   "outputs": [
    {
     "name": "stdin",
     "output_type": "stream",
     "text": [
      "enter factorial:  0\n"
     ]
    },
    {
     "name": "stdout",
     "output_type": "stream",
     "text": [
      "factorial of 0 --> 1\n"
     ]
    }
   ],
   "source": [
    "# factorial\n",
    "n=int(input(\"enter factorial: \"))\n",
    "sp=1\n",
    "counter=1\n",
    "while counter <= n :\n",
    "    sp = sp * counter\n",
    "    counter+=1\n",
    "print(\"factorial of\",n,\"-->\",sp)"
   ]
  },
  {
   "cell_type": "code",
   "execution_count": 17,
   "id": "d3d38d31-0717-4ef7-b094-4c4f73745af7",
   "metadata": {},
   "outputs": [
    {
     "name": "stdin",
     "output_type": "stream",
     "text": [
      "enter number:  0\n"
     ]
    },
    {
     "name": "stdout",
     "output_type": "stream",
     "text": [
      "factorial of 0 --> 1\n"
     ]
    }
   ],
   "source": [
    "n=int(input(\"enter number: \"))\n",
    "sp=1\n",
    "while n>0:\n",
    "    sp=sp*n\n",
    "    n-=1\n",
    "print(\"factorial of\",n,\"-->\",sp)"
   ]
  },
  {
   "cell_type": "code",
   "execution_count": 1,
   "id": "dcd49a5e-0d50-46f2-94d7-8a0c930bbc2d",
   "metadata": {},
   "outputs": [
    {
     "name": "stdin",
     "output_type": "stream",
     "text": [
      "enter number:  3\n"
     ]
    },
    {
     "name": "stdout",
     "output_type": "stream",
     "text": [
      "0\n",
      "1\n",
      "3\n"
     ]
    }
   ],
   "source": [
    "# finonacci series\n",
    "n=int(input(\"enter number: \"))\n",
    "sp=0\n",
    "jump=0\n",
    "while sp<n:\n",
    "    sp=sp+jump\n",
    "    print(sp)\n",
    "    jump+=1\n",
    "    \n"
   ]
  },
  {
   "cell_type": "code",
   "execution_count": 2,
   "id": "34d6f4cd-ae77-4da3-92e1-cc45a700cc15",
   "metadata": {},
   "outputs": [
    {
     "name": "stdin",
     "output_type": "stream",
     "text": [
      "enter your number:  9\n"
     ]
    },
    {
     "name": "stdout",
     "output_type": "stream",
     "text": [
      "0\n",
      "1\n",
      "1\n",
      "2\n",
      "3\n",
      "5\n",
      "8\n",
      "13\n",
      "21\n"
     ]
    }
   ],
   "source": [
    "# finonacci series\n",
    "num = int(input(\"enter your number: \"))\n",
    "a,b=0,1\n",
    "counter=0\n",
    "while counter<num:\n",
    "    print(a)\n",
    "    c=a+b\n",
    "    a=b\n",
    "    b=c\n",
    "    counter+=1\n",
    "    \n"
   ]
  },
  {
   "cell_type": "code",
   "execution_count": 7,
   "id": "1e68a023-59e1-41c5-9ef9-a0bc4df849af",
   "metadata": {},
   "outputs": [
    {
     "name": "stdin",
     "output_type": "stream",
     "text": [
      "enter first number:  0\n",
      "enter second number:  2\n"
     ]
    },
    {
     "name": "stdout",
     "output_type": "stream",
     "text": [
      "0\n",
      "2\n",
      "2\n",
      "4\n",
      "6\n",
      "10\n",
      "16\n",
      "26\n",
      "42\n",
      "68\n"
     ]
    }
   ],
   "source": [
    "n1=int(input(\"enter first number: \"))\n",
    "n2=int(input(\"enter second number: \"))\n",
    "for i in range(10):\n",
    "    print(n1)\n",
    "    c=n1+n2\n",
    "    n1=n2\n",
    "    n2=c"
   ]
  },
  {
   "cell_type": "code",
   "execution_count": null,
   "id": "0e3313ee-924c-458b-95de-06b95362e81d",
   "metadata": {},
   "outputs": [],
   "source": []
  },
  {
   "cell_type": "code",
   "execution_count": 13,
   "id": "9ea23db6-94da-424a-9e64-df0ec772dab1",
   "metadata": {},
   "outputs": [
    {
     "name": "stdout",
     "output_type": "stream",
     "text": [
      "hdus\n"
     ]
    }
   ],
   "source": [
    "name= \"sudh\"\n",
    "counter = len(name)\n",
    "rev = \"\"\n",
    "while counter > 0:\n",
    "    rev= rev + name[counter-1]\n",
    "    counter-=1\n",
    "print(rev)"
   ]
  },
  {
   "cell_type": "code",
   "execution_count": 36,
   "id": "998075e5-58c1-41fc-b03b-1d78079d61b8",
   "metadata": {},
   "outputs": [
    {
     "name": "stdout",
     "output_type": "stream",
     "text": [
      "mar\n"
     ]
    }
   ],
   "source": [
    "n=\"ram\"\n",
    "rev=\"\"\n",
    "for i in range(len(n)-1,-1,-1):\n",
    "    rev=rev+n[i]\n",
    "print(str(rev))"
   ]
  },
  {
   "cell_type": "code",
   "execution_count": 35,
   "id": "3723a178-dfc0-4152-b140-1c95a30f49d7",
   "metadata": {},
   "outputs": [
    {
     "data": {
      "text/plain": [
       "[2, 1, 0]"
      ]
     },
     "execution_count": 35,
     "metadata": {},
     "output_type": "execute_result"
    }
   ],
   "source": [
    "list(range(len(n)-1,-1,-1))"
   ]
  },
  {
   "cell_type": "code",
   "execution_count": 26,
   "id": "7aba8120-4818-48ee-81c6-627a0ea268f3",
   "metadata": {},
   "outputs": [
    {
     "data": {
      "text/plain": [
       "4"
      ]
     },
     "execution_count": 26,
     "metadata": {},
     "output_type": "execute_result"
    }
   ],
   "source": [
    "2+2"
   ]
  },
  {
   "cell_type": "code",
   "execution_count": 46,
   "id": "6030d979-e712-4c42-9b03-1c1846e11092",
   "metadata": {},
   "outputs": [
    {
     "name": "stdin",
     "output_type": "stream",
     "text": [
      "which number table do you want??  10\n",
      "to how much??  10\n"
     ]
    },
    {
     "name": "stdout",
     "output_type": "stream",
     "text": [
      "10 X 1  =  10\n",
      "10 X 2  =  20\n",
      "10 X 3  =  30\n",
      "10 X 4  =  40\n",
      "10 X 5  =  50\n",
      "10 X 6  =  60\n",
      "10 X 7  =  70\n",
      "10 X 8  =  80\n",
      "10 X 9  =  90\n",
      "10 X 10  =  100\n"
     ]
    }
   ],
   "source": [
    "num=int(input(\"which number table do you want?? \"))\n",
    "counter=1\n",
    "till=int(input(\"to how much?? \"))\n",
    "while counter<=till:\n",
    "    result=num*counter\n",
    "    print(num,\"X\",counter,\" = \",result)\n",
    "    counter+=1"
   ]
  },
  {
   "cell_type": "code",
   "execution_count": 55,
   "id": "2457d486-d16f-4865-a582-475e5374c192",
   "metadata": {},
   "outputs": [
    {
     "name": "stdin",
     "output_type": "stream",
     "text": [
      "which number table do you want??  2\n",
      "till how much??  10\n"
     ]
    },
    {
     "name": "stdout",
     "output_type": "stream",
     "text": [
      "2 X 1  =  2\n",
      "2 X 2  =  4\n",
      "2 X 3  =  6\n",
      "2 X 4  =  8\n",
      "2 X 5  =  10\n",
      "2 X 6  =  12\n",
      "2 X 7  =  14\n",
      "2 X 8  =  16\n",
      "2 X 9  =  18\n",
      "2 X 10  =  20\n"
     ]
    }
   ],
   "source": [
    "a=int(input(\"which number table do you want?? \"))\n",
    "b=int(input(\"till how much?? \"))\n",
    "for i in range(1,b+1):\n",
    "    c=a*i\n",
    "    print(a,\"X\",i,\" = \",c)"
   ]
  },
  {
   "cell_type": "code",
   "execution_count": 56,
   "id": "6555bbeb-6936-4010-b9b5-891828c7429b",
   "metadata": {},
   "outputs": [],
   "source": [
    "# break"
   ]
  },
  {
   "cell_type": "code",
   "execution_count": 69,
   "id": "20e05903-8673-4c2c-b3f2-47542c6f4a56",
   "metadata": {},
   "outputs": [
    {
     "name": "stdin",
     "output_type": "stream",
     "text": [
      "on what number you want to stop 10\n"
     ]
    },
    {
     "name": "stdout",
     "output_type": "stream",
     "text": [
      "1\n",
      "2\n",
      "3\n",
      "4\n",
      "5\n",
      "6\n",
      "7\n",
      "8\n",
      "9\n",
      "10\n"
     ]
    }
   ],
   "source": [
    "# using for loop\n",
    "a=int(input(\"on what number you want to stop\"))\n",
    "for i in range(1,a+1):\n",
    "    print(i)\n",
    "    if i == a :\n",
    "        break\n",
    "else:\n",
    "    print(\"else will be printed when while is completed\")\n",
    "   "
   ]
  },
  {
   "cell_type": "code",
   "execution_count": 6,
   "id": "a7f6515a-2143-4783-a081-c3ee6ffdbb81",
   "metadata": {},
   "outputs": [
    {
     "name": "stdin",
     "output_type": "stream",
     "text": [
      "on what number you want to stop 10\n"
     ]
    },
    {
     "name": "stdout",
     "output_type": "stream",
     "text": [
      "1\n",
      "2\n",
      "3\n",
      "4\n",
      "5\n",
      "6\n",
      "7\n",
      "8\n",
      "9\n",
      "10\n"
     ]
    }
   ],
   "source": [
    "# using while loop\n",
    "n=int(input(\"on what number you want to stop\"))\n",
    "a=1\n",
    "while a <= n :\n",
    "    print(a)\n",
    "    if a==n:\n",
    "        break\n",
    "    a+=1\n",
    "\n",
    "    "
   ]
  },
  {
   "cell_type": "code",
   "execution_count": null,
   "id": "6b9f1d1a-d3ca-4060-9eda-c41c34565cb9",
   "metadata": {},
   "outputs": [],
   "source": []
  },
  {
   "cell_type": "code",
   "execution_count": null,
   "id": "2e8ebdbb-f3c0-4432-8a12-52ec3643449f",
   "metadata": {},
   "outputs": [],
   "source": []
  },
  {
   "cell_type": "code",
   "execution_count": null,
   "id": "5996d5d2-9445-4ce0-a37a-3ea73a35b266",
   "metadata": {},
   "outputs": [],
   "source": []
  },
  {
   "cell_type": "code",
   "execution_count": null,
   "id": "8447eeff-fc28-45d4-bafa-1e1fb66aa5b4",
   "metadata": {},
   "outputs": [],
   "source": []
  },
  {
   "cell_type": "code",
   "execution_count": null,
   "id": "5fbb1148-aa11-496f-8e2e-ca42a9d96a93",
   "metadata": {},
   "outputs": [],
   "source": []
  },
  {
   "cell_type": "code",
   "execution_count": null,
   "id": "b9fb9f80-a85d-4ac8-ad01-8cd6192b5649",
   "metadata": {},
   "outputs": [],
   "source": []
  },
  {
   "cell_type": "code",
   "execution_count": null,
   "id": "bb43830d-2017-4fc6-8830-751769e7f4b7",
   "metadata": {},
   "outputs": [],
   "source": []
  },
  {
   "cell_type": "code",
   "execution_count": null,
   "id": "51aad564-ee4d-447e-9bc6-62e0d8490afe",
   "metadata": {},
   "outputs": [],
   "source": []
  },
  {
   "cell_type": "code",
   "execution_count": null,
   "id": "457e2665-affd-4176-9e77-c772b1ba8336",
   "metadata": {},
   "outputs": [],
   "source": []
  }
 ],
 "metadata": {
  "kernelspec": {
   "display_name": "Python 3 (ipykernel)",
   "language": "python",
   "name": "python3"
  },
  "language_info": {
   "codemirror_mode": {
    "name": "ipython",
    "version": 3
   },
   "file_extension": ".py",
   "mimetype": "text/x-python",
   "name": "python",
   "nbconvert_exporter": "python",
   "pygments_lexer": "ipython3",
   "version": "3.10.6"
  }
 },
 "nbformat": 4,
 "nbformat_minor": 5
}
